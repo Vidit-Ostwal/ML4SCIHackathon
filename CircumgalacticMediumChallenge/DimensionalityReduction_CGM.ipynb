{
 "cells": [
  {
   "cell_type": "markdown",
   "metadata": {},
   "source": [
    "# Circumgalactic Medium Challenge - Dimensionality Reduction"
   ]
  },
  {
   "cell_type": "markdown",
   "metadata": {},
   "source": [
    "<a href=\"https://colab.research.google.com/drive/1dHUVwZiLDBJ6IXN0MDSzBiZrXT2w4L2n\" \n",
    "target=\"_parent\"><img src=\"https://colab.research.google.com/assets/colab-badge.svg\" alt=\"Open In Colab\"/></a>"
   ]
  },
  {
   "cell_type": "markdown",
   "metadata": {
    "id": "j--oUC9ukFk4"
   },
   "source": [
    "## Problem description \n",
    "\n",
    "Galaxies are embedded in large gas haloes termed the “circumgalactic medium (CGM)”. The history of a galaxy is encapsulated in the history of its gas cycling between the visible body of the galaxy and the CGM. The CGM is a source for a galaxy’s star-forming fuel, and plays a role in regulating the galactic gas supply. Understanding the CGM and its history thus offers insight into galaxy evolution. \n",
    "\n",
    "One way to study galaxy CGMs is through the absorption lines they cause in the spectra of bright background objects, such as quasars. As the light passes through a slab of gas constituting the CGM, the gas absorbs part of the light, resulting in an absorption line in the resulting spectrum, as the figure below illustrates. \n",
    "\n",
    "(Note that the light intensity is always **non-negative**).\n",
    "\n",
    "![image](https://user-images.githubusercontent.com/71390120/131004001-9958b083-11c0-4a62-aedf-073a7b629ad1.png)\n",
    "\n",
    "The characteristics of the absorption lines depend on the properties and type of the gas itself. Thus, it is plausible that there are some underlying/latent gas characteristics, such as density, temperature, elemental abundances and velocity that result in spectra with similar characteristics. These properties are unobservable, which motivates the search for an underlying latent space — a low-dimensional representation of spectra, which would capture these properties.\n",
    "\n",
    "Your task will be to find a latent space from which the original spectra can be reconstructed with minimal information loss, as described in more detail below."
   ]
  },
  {
   "cell_type": "markdown",
   "metadata": {
    "id": "boE2qGRhl__W"
   },
   "source": [
    "# Data\n",
    "\n",
    "You will be given a dataset of simulated spectra, where a given row corresponds to a single spectrum, and each column corresponds to a wavelength. That is, entry $ x_{i,j} $ in the given data is light intensity for spectrum $ i $ at wavelength $ j $ (so the plot above is a plot of one row of the data).\n",
    "\n",
    "We provide three datasets:\n",
    "1. Training data: This should be used for model fitting.\n",
    "2. Validation data: Hyperparameter tuning should be done using this dataset.\n",
    "3. Test data: Use your FINAL model to calculate reconstructions for this data. DO NOT use this for model fitting. \n",
    "\n",
    "You can do anything with the train and validation datasets (for example, if using cross-validation you can pool them). Test data should be only used once, to generate reconstructions using your final model. \n",
    "\n",
    "Note that we will use a separate dataset (which you won't have access to) to assess the submitted models.\n"
   ]
  },
  {
   "cell_type": "markdown",
   "metadata": {
    "id": "n2_FkYqonWgo"
   },
   "source": [
    "# Objective\n",
    "\n",
    "Given a dataset of spectra, your task is to reduce its dimensionality. For example, starting with 2000 spectra with 100 000 features/wavelengths, your task is to represent these spectra with just a few features. For example, you can end up with a dataset of 2000 spectra, each with 6 features (instead of the original 100 000 features).\n",
    "\n",
    "Below we will refer to the features of the reduced spectra as \"latent variables\". So in the example above, the reduced spectrum has 6 latent variables.\n",
    "\n",
    "The dimensionality reduction necessarily involves some information loss. Your aim is to find dimensionality reduction with as small loss as possible. This loss is calculated as a mean squared error of reconstructed spectra. See below for more detail.\n",
    "\n",
    "\n",
    "\n",
    "\n",
    "\n",
    "\n",
    "\n"
   ]
  },
  {
   "cell_type": "markdown",
   "metadata": {
    "id": "vaR80smyrPj4"
   },
   "source": [
    "# Information loss\n",
    "\n",
    "Your task is to minimise information loss, which will be measured by reconstruction loss. We give you a function to calculate the information loss below. The function takes the latent space size and the original and reconstructed spectra as inputs. \n",
    "\n",
    "**How to obtain reconstructed spectra**\n",
    "1. First use your model to encode the original spectrum (let's call it $ s $) with 100 000 features/wavelengths, using only $ d $ features. This results in a reduced spectrum. \n",
    "\n",
    "2. Then, use (only) the reduced spectrum to reconstruct the original spectrum (so from a reduced spectrum with $ d $ features now obtain one with 100 000 features). This results in a reconstructed spectrum. Let's call it $ \\hat{s} $.\n",
    "\n",
    "\n",
    "Once you have your model for dimensionality reduction, calculating the reconstructed spectra is easy. For example, for PCA in sklearn, you can simply use \".inverse_transform\". For autoencoders, reconstructions are calculated using your decoder.\n",
    "\n",
    "*When calculating reconstructions, it is useful to keep in mind that the light intensity is always* **non-negative**, *so in general, non-negative reconstructions will lead to lower loss.*\n",
    "\n",
    "**How is the reconstruction loss calculated**\n",
    "\n",
    "We want the original spectrum and the reconstructed spectrum to be as similar as possible, while encouraging small latent space size (small $ d $). Hence we calculate reconstruction loss for a single spectrum with $ p $ wavelengths as a mean squared error of reconstructed vs. original spectrum, with added penalty for large $ d $.\n",
    "\n",
    "Note that the penalty increases with increasing $ d $. Also, extra penalty is added if you use more than 6 latent features. So it pays off to reduce the dimensionality as much as possible, and definitely to use maximum of 6 latent features!\n",
    "\n",
    "$$ \\text{Reconstruction loss}(s) = \\frac{1}{p} \\sum_{i = 1}^{p}(s_{i} - \\hat{s}_{i})^{2} + \\psi_{1} d + \\psi_{2} \\mathbb{I}\\{d \\geq 7\\} $$\n",
    "\n",
    "\n",
    "For a dataset of $ N $ spectra, we simply average the losses, i.e.\n",
    "\n",
    "\n",
    "$$ \\text{Penalised reconstr. loss}(s^{1}, ... , s^{N}) = \\frac{1}{pN }  \\sum_{j = 1}^{N} \\sum_{i = 1}^{p}(s^{j}_{i} - \\hat{s}^{j}_{i})^{2} + \\psi_{1} d + \\psi_{2} \\mathbb{I}\\{d \\geq 7\\}. $$\n"
   ]
  },
  {
   "cell_type": "markdown",
   "metadata": {
    "id": "dtxengLnTwjS"
   },
   "source": [
    "**Function to calculate the reconstruction loss**"
   ]
  },
  {
   "cell_type": "code",
   "execution_count": 1,
   "metadata": {
    "id": "qGOjlrLYTjeR"
   },
   "outputs": [],
   "source": [
    "def reconstr_loss(original_spectra, reconstructed_spectra, latent_dim):\n",
    "  '''Function to calculate reconstruction loss.\n",
    "\n",
    "  Inputs:\n",
    "  - original_spectra (np.array): original spectra.\n",
    "  - reconstructed_spectra (np.array): reconstruction of the original spectra from the latent representation.\n",
    "  - latent_dim (integer): size of the latent space.\n",
    "\n",
    "  Returns:\n",
    "  - reconstruction loss with added penalty for the latent space size\n",
    "  '''\n",
    "\n",
    "  penalty = 0.00003\n",
    "  penalty2 = 5*0.00003\n",
    "\n",
    "\n",
    "  mse_loss = mean_squared_error(original_spectra, reconstructed_spectra, squared=True)\n",
    "  loss_penalized = mse_loss + latent_dim*penalty + penalty2*(latent_dim > 6)\n",
    "\n",
    "  return(loss_penalized)"
   ]
  },
  {
   "cell_type": "markdown",
   "metadata": {
    "id": "qZf7Zpb2TtMs"
   },
   "source": [
    "# What you need to submit\n",
    "\n",
    "**See the end of this notebook for exact requirements for submissions**\n",
    "\n",
    "\n",
    "The key elements you need to submit:\n",
    "1. Reconstruction loss on the TEST data using your final model.\n",
    "2. A function mapping of spectra into a latent space, i.e. function that calculates $ \\hat{z} $ for any spectrum (or spectral dataset) $ s $.\n",
    "3. Your function for calculating reconstructions $ \\hat{s} $ from latent representation $ \\hat{z} $.\n",
    "\n",
    "Functions should be of the form:"
   ]
  },
  {
   "cell_type": "code",
   "execution_count": 7,
   "metadata": {
    "id": "m65HifYMteJo"
   },
   "outputs": [],
   "source": [
    "def reduce_dimensionality(S):\n",
    "  '''\n",
    "  Inputs:\n",
    "  - S: numpy array containing spectral data (shape n x p)\n",
    "\n",
    "  Outputs:\n",
    "  - Z: numpy array containing latent representation of X (shape n x d)\n",
    "  '''\n",
    "\n",
    "  # Code to calculate Z = f(X)\n",
    "\n",
    "  return( Z) "
   ]
  },
  {
   "cell_type": "code",
   "execution_count": 8,
   "metadata": {
    "id": "vUL4HFhlt1JR"
   },
   "outputs": [],
   "source": [
    "def calculate_reconstructions(Z):\n",
    "  '''\n",
    "  Inputs:\n",
    "  - Z: numpy array containing latent representation of spectra (shape n x d)\n",
    "\n",
    "  Outputs:\n",
    "  - S_hat: numpy array containing reconstructions of X from Z (shape n x p)\n",
    "  '''\n",
    "\n",
    "  # Code to calculate X_hat = g(X)\n",
    "\n",
    "  return( S_hat ) "
   ]
  },
  {
   "cell_type": "markdown",
   "metadata": {
    "id": "V039Pp4eTUmP"
   },
   "source": [
    "# Summary"
   ]
  },
  {
   "cell_type": "markdown",
   "metadata": {
    "id": "bSC7kuQZSK4d"
   },
   "source": [
    "Lastly, the diagram below summarizes the process. For a given spectrum $ s $, you need to find a function \"*reduce_dimensionality*\" that reduces the dimension of the data, and function \"*calculate_reconstructions*\", which calculates reconstructed spectra from the reduced dataset. Reconstruction loss is calculated as a MSE of reconstructed vs original spectra, with added penalty for large latent space sizes.\n",
    "\n",
    "You need to submit the elements highlighted in red, that is the loss calculated on the test set, and the two functions.\n",
    "\n"
   ]
  },
  {
   "attachments": {
    "image.png": {
     "image/png": "[encoded data removed]"
    }
   },
   "cell_type": "markdown",
   "metadata": {
    "id": "y5LHC33jStr0"
   },
   "source": [
    "![image.png](attachment:image.png)"
   ]
  },
  {
   "cell_type": "markdown",
   "metadata": {
    "id": "f8BDeYjkr35F"
   },
   "source": [
    "# An example"
   ]
  },
  {
   "cell_type": "markdown",
   "metadata": {
    "id": "NKJwJZFCvVFV"
   },
   "source": [
    "### Load functions\n"
   ]
  },
  {
   "cell_type": "code",
   "execution_count": 2,
   "metadata": {
    "id": "jFkU8MzMGDh7"
   },
   "outputs": [],
   "source": [
    "from sklearn.metrics import mean_squared_error\n",
    "import pandas as pd\n",
    "import numpy as np\n",
    "import h5py\n",
    "import gdown"
   ]
  },
  {
   "cell_type": "markdown",
   "metadata": {
    "id": "QjhN7HHMHrdC"
   },
   "source": [
    "### Import data"
   ]
  },
  {
   "cell_type": "code",
   "execution_count": 3,
   "metadata": {
    "scrolled": true
   },
   "outputs": [
    {
     "name": "stderr",
     "output_type": "stream",
     "text": [
      "Downloading...\n",
      "From: https://drive.google.com/u/0/uc?export=download&confirm=F_-k&id=1sdx-m9PLLKjPQ8J2g7H2zw2FUSMV6jYz\n",
      "To: C:\\Users\\jbryb\\OneDrive\\Documents\\GSOC_2021\\Hackathon_official\\ML4SCI\\CircumgalacticMediumChallenge\\train_set.hdf5\n",
      "100%|█████████████████████████████████████████████████████████████████████████████| 2.08G/2.08G [04:54<00:00, 7.05MB/s]\n",
      "Downloading...\n",
      "From: https://drive.google.com/u/0/uc?export=download&confirm=QL45&id=1qymhB00l4wy_Ql4A3DRxguxytFzda7_0\n",
      "To: C:\\Users\\jbryb\\OneDrive\\Documents\\GSOC_2021\\Hackathon_official\\ML4SCI\\CircumgalacticMediumChallenge\\val_set.hdf5\n",
      "100%|███████████████████████████████████████████████████████████████████████████████| 320M/320M [00:50<00:00, 6.31MB/s]\n",
      "Downloading...\n",
      "From: https://drive.google.com/u/0/uc?export=download&confirm=nAB1&id=1lhJl_6lWCxNpOSxJd9_d_qssgUKEli7M\n",
      "To: C:\\Users\\jbryb\\OneDrive\\Documents\\GSOC_2021\\Hackathon_official\\ML4SCI\\CircumgalacticMediumChallenge\\test_set.hdf5\n",
      "100%|███████████████████████████████████████████████████████████████████████████████| 160M/160M [00:21<00:00, 7.39MB/s]\n"
     ]
    }
   ],
   "source": [
    "url_train = 'https://drive.google.com/u/0/uc?export=download&confirm=F_-k&id=1sdx-m9PLLKjPQ8J2g7H2zw2FUSMV6jYz'\n",
    "url_val = 'https://drive.google.com/u/0/uc?export=download&confirm=QL45&id=1qymhB00l4wy_Ql4A3DRxguxytFzda7_0'\n",
    "url_test = 'https://drive.google.com/u/0/uc?export=download&confirm=nAB1&id=1lhJl_6lWCxNpOSxJd9_d_qssgUKEli7M'\n",
    "\n",
    "# Using this links may be faster (but can fail if many users are connected)\n",
    "# url_train = 'https://drive.google.com/uc?id=1sdx-m9PLLKjPQ8J2g7H2zw2FUSMV6jYz'\n",
    "# url_val = 'https://drive.google.com/uc?id=1qymhB00l4wy_Ql4A3DRxguxytFzda7_0'\n",
    "# url_test = 'https://drive.google.com/uc?id=1lhJl_6lWCxNpOSxJd9_d_qssgUKEli7M'\n",
    "\n",
    "\n",
    "train_set = gdown.download(url_train, 'train_set.hdf5', quiet=False)\n",
    "val_set = gdown.download(url_val, 'val_set.hdf5', quiet=False)\n",
    "test_set = gdown.download(url_test, 'test_set.hdf5', quiet=False)\n"
   ]
  },
  {
   "cell_type": "code",
   "execution_count": 5,
   "metadata": {},
   "outputs": [],
   "source": [
    "data_train = h5py.File(train_set, 'r')\n",
    "x_train = np.array( data_train['spectra'] )\n",
    "\n",
    "data_val = h5py.File(val_set, 'r')\n",
    "x_val = np.array( data_val['spectra'] )\n",
    "\n",
    "data_test = h5py.File(test_set, 'r')\n",
    "x_test = np.array( data_test['spectra'] )"
   ]
  },
  {
   "cell_type": "code",
   "execution_count": null,
   "metadata": {},
   "outputs": [],
   "source": [
    "print(\"Train size:\", x_train.shape)\n",
    "print(\"Val size:\", x_val.shape)\n",
    "print(\"Test size:\", x_test.shape)"
   ]
  },
  {
   "cell_type": "markdown",
   "metadata": {
    "id": "fvgMmYWKSRsO"
   },
   "source": [
    "### Example: Autoencoder\n"
   ]
  },
  {
   "cell_type": "code",
   "execution_count": 9,
   "metadata": {
    "id": "K50lobsHSgXx"
   },
   "outputs": [],
   "source": [
    "# Load packages\n",
    "\n",
    "import tensorflow as tf\n",
    "from tensorflow.keras.models import Sequential\n",
    "from tensorflow.keras.layers import Dense\n",
    "from tensorflow.keras.models import Model"
   ]
  },
  {
   "cell_type": "code",
   "execution_count": 10,
   "metadata": {
    "id": "ghk1-2BSSUUp"
   },
   "outputs": [],
   "source": [
    "# Process the dataset\n",
    "\n",
    "train_dataset = tf.data.Dataset.from_tensor_slices((x_train, x_train))\n",
    "val_dataset = tf.data.Dataset.from_tensor_slices((x_val, x_val))\n",
    "\n",
    "\n",
    "train_dataset = train_dataset.batch(32).prefetch(tf.data.experimental.AUTOTUNE)\n",
    "val_dataset = val_dataset.batch(32).prefetch(tf.data.experimental.AUTOTUNE)"
   ]
  },
  {
   "cell_type": "code",
   "execution_count": 11,
   "metadata": {
    "id": "_7xPWYabaZ8U"
   },
   "outputs": [],
   "source": [
    "# Light intensity is non-negative, hence we enforce this restriction on the reconstructed spectra, too, by . \n",
    "# This helps to improve model performance.\n",
    "def custom_tanh(x, target_min=0, target_max=None):\n",
    "    '''\n",
    "    For given max and min values, return tanh activation with values in this range\n",
    "\n",
    "    Inputs:\n",
    "    - x: values to be transformed (np.array)\n",
    "    - target_min: minimum value of tanh function (float)\n",
    "    - target_max: max value of tanh function (float)\n",
    "\n",
    "    Returns:\n",
    "    - x transformed by tanh activation (np.array)\n",
    "    '''\n",
    "\n",
    "    x_02range = BK.tanh(x) + 1  # x mapped into range(0,2)\n",
    "    scale = (target_max - target_min) / 2.  # calculate target range of transformed x\n",
    "\n",
    "    return (x_02range * scale + target_min)\n",
    "\n",
    "# Specify custom decoder layer\n",
    "max_val = x_train.max().max()\n",
    "# create custom tanh activation by specifying max value allowed for reconstructions\n",
    "custom_tanh_activation = lambda x: custom_tanh(x, target_max=max_val)"
   ]
  },
  {
   "cell_type": "code",
   "execution_count": 12,
   "metadata": {
    "id": "-kqOsa-e2xbx"
   },
   "outputs": [],
   "source": [
    "\n",
    "\n",
    "\n",
    "# Define encoder and decoder functions and objects\n",
    "\n",
    "def get_encoder(encoded_dim, input_shape = x_train.shape[1]):\n",
    "  encoder = Sequential([\n",
    "      Dense(264, input_shape = (input_shape,) ),\n",
    "      Dense(128, activation = 'relu' ),\n",
    "      Dense(encoded_dim),\n",
    "  ])\n",
    "  print(encoder.summary())\n",
    "\n",
    "  return(encoder)\n",
    "\n",
    "def get_decoder(encoded_dim, output_shape = x_train.shape[1]):\n",
    "\n",
    "  decoder = Sequential([\n",
    "      Dense(128, input_shape = (encoded_dim,), activation = 'relu'),\n",
    "      Dense(264, activation = 'relu' ),\n",
    "      Dense(output_shape, activation = 'relu'), # mapping_to_target_range\n",
    "  ])\n",
    "  print(decoder.summary())\n",
    "\n",
    "  return(decoder)\n"
   ]
  },
  {
   "cell_type": "code",
   "execution_count": 18,
   "metadata": {
    "colab": {
     "base_uri": "https://localhost:8080/"
    },
    "executionInfo": {
     "elapsed": 275258,
     "status": "ok",
     "timestamp": 1636058151221,
     "user": {
      "displayName": "Jakub Rybak",
      "photoUrl": "https://lh3.googleusercontent.com/a/default-user=s64",
      "userId": "16177765081472474800"
     },
     "user_tz": 0
    },
    "id": "zHKek8V5TH8l",
    "outputId": "1025f3bf-bee3-4244-a5f0-d7f47e553962"
   },
   "outputs": [
    {
     "name": "stdout",
     "output_type": "stream",
     "text": [
      "Model: \"sequential_2\"\n",
      "_________________________________________________________________\n",
      "Layer (type)                 Output Shape              Param #   \n",
      "=================================================================\n",
      "dense_6 (Dense)              (None, 264)               10553400  \n",
      "_________________________________________________________________\n",
      "dense_7 (Dense)              (None, 128)               33920     \n",
      "_________________________________________________________________\n",
      "dense_8 (Dense)              (None, 5)                 645       \n",
      "=================================================================\n",
      "Total params: 10,587,965\n",
      "Trainable params: 10,587,965\n",
      "Non-trainable params: 0\n",
      "_________________________________________________________________\n",
      "None\n",
      "Model: \"sequential_3\"\n",
      "_________________________________________________________________\n",
      "Layer (type)                 Output Shape              Param #   \n",
      "=================================================================\n",
      "dense_9 (Dense)              (None, 128)               768       \n",
      "_________________________________________________________________\n",
      "dense_10 (Dense)             (None, 264)               34056     \n",
      "_________________________________________________________________\n",
      "dense_11 (Dense)             (None, 39974)             10593110  \n",
      "=================================================================\n",
      "Total params: 10,627,934\n",
      "Trainable params: 10,627,934\n",
      "Non-trainable params: 0\n",
      "_________________________________________________________________\n",
      "None\n",
      "Epoch 1/10\n",
      "204/204 [==============================] - 30s 146ms/step - loss: 0.4319 - val_loss: 0.2270\n",
      "Epoch 2/10\n",
      "204/204 [==============================] - 30s 146ms/step - loss: 0.2262 - val_loss: 0.2256\n",
      "Epoch 3/10\n",
      "204/204 [==============================] - 31s 150ms/step - loss: 0.2253 - val_loss: 0.2249\n",
      "Epoch 4/10\n",
      "204/204 [==============================] - 30s 149ms/step - loss: 0.2248 - val_loss: 0.2246\n",
      "Epoch 5/10\n",
      "204/204 [==============================] - 32s 157ms/step - loss: 0.2239 - val_loss: 0.2230\n",
      "Epoch 6/10\n",
      "204/204 [==============================] - 31s 152ms/step - loss: 0.2196 - val_loss: 0.2134\n",
      "Epoch 7/10\n",
      "204/204 [==============================] - 30s 149ms/step - loss: 0.2093 - val_loss: 0.2052\n",
      "Epoch 8/10\n",
      "204/204 [==============================] - 30s 149ms/step - loss: 0.2039 - val_loss: 0.2028\n",
      "Epoch 9/10\n",
      "204/204 [==============================] - 33s 161ms/step - loss: 0.2023 - val_loss: 0.2018\n",
      "Epoch 10/10\n",
      "204/204 [==============================] - 33s 162ms/step - loss: 0.2014 - val_loss: 0.2007\n"
     ]
    }
   ],
   "source": [
    "# Specify the model and compile\n",
    "\n",
    "earlystopping = tf.keras.callbacks.EarlyStopping(monitor = 'val_loss', patience = 5)\n",
    "\n",
    "encoded_dim = 5\n",
    "\n",
    "epochs = 10\n",
    "\n",
    "encoder = get_encoder(encoded_dim, x_train.shape[1])\n",
    "decoder = get_decoder(encoded_dim, x_train.shape[1])\n",
    "\n",
    "# Initialise and compile VAE\n",
    "ae = Model(inputs=encoder.inputs, outputs=decoder(encoder.outputs))\n",
    "optimizer = tf.keras.optimizers.Adam()\n",
    "optimizer.learning_rate  = 1e-3\n",
    "ae.compile(optimizer=optimizer, loss = 'mean_squared_error')\n",
    "\n",
    "ae_history = ae.fit(train_dataset, validation_data=val_dataset, epochs=epochs,\n",
    "                    callbacks = [earlystopping])"
   ]
  },
  {
   "cell_type": "markdown",
   "metadata": {
    "id": "ht-gkDkf37Dh"
   },
   "source": [
    "# Define function needed for the submission"
   ]
  },
  {
   "cell_type": "markdown",
   "metadata": {
    "id": "RFojIw5J3-yx"
   },
   "source": [
    "In this case dimensionality reduction is performed by an encoder function, while calculating recnstructions is done by the decoder function."
   ]
  },
  {
   "cell_type": "code",
   "execution_count": 19,
   "metadata": {
    "id": "PpF61YBc3-Md"
   },
   "outputs": [],
   "source": [
    "reduce_dimensionality = encoder\n",
    "calculate_reconstructions = decoder"
   ]
  },
  {
   "cell_type": "markdown",
   "metadata": {
    "id": "vJKqzFz_3bc_"
   },
   "source": [
    "# Model evaluation: test set"
   ]
  },
  {
   "cell_type": "markdown",
   "metadata": {
    "id": "5ZNvMgA23eZr"
   },
   "source": [
    "Once you have identified you preferred model using train and validation sets, please run it on the test set. You will need to include the reconstruction loss for this set in your submission."
   ]
  },
  {
   "cell_type": "code",
   "execution_count": 20,
   "metadata": {
    "id": "LsJ7y2HB3vzw"
   },
   "outputs": [],
   "source": [
    "test_set_latent_encoding = reduce_dimensionality(x_test)"
   ]
  },
  {
   "cell_type": "code",
   "execution_count": 21,
   "metadata": {
    "id": "sAqQ8QBt4MVh"
   },
   "outputs": [],
   "source": [
    "test_set_reconstructions = calculate_reconstructions(test_set_latent_encoding)"
   ]
  },
  {
   "cell_type": "code",
   "execution_count": 22,
   "metadata": {
    "colab": {
     "base_uri": "https://localhost:8080/"
    },
    "executionInfo": {
     "elapsed": 650,
     "status": "ok",
     "timestamp": 1636058151861,
     "user": {
      "displayName": "Jakub Rybak",
      "photoUrl": "https://lh3.googleusercontent.com/a/default-user=s64",
      "userId": "16177765081472474800"
     },
     "user_tz": 0
    },
    "id": "oeZQwJSX4SjP",
    "outputId": "4f3e103f-458f-4846-e14b-9aed4fd48895"
   },
   "outputs": [
    {
     "data": {
      "text/plain": [
       "0.20092920836899675"
      ]
     },
     "execution_count": 22,
     "metadata": {},
     "output_type": "execute_result"
    }
   ],
   "source": [
    "# mean_squared_error(x_test, test_set_reconstructions, squared=True)\n",
    "reconstr_loss(x_test, test_set_reconstructions, latent_dim = test_set_latent_encoding.shape[1])"
   ]
  },
  {
   "cell_type": "markdown",
   "metadata": {
    "id": "TDvXicOyrAq9"
   },
   "source": [
    "# Submission"
   ]
  },
  {
   "cell_type": "markdown",
   "metadata": {
    "id": "8a7ECCBjrJ92"
   },
   "source": [
    "Submission format (on ML4SCI2021@gmail.com):\n",
    "\n",
    "Please email us:\n",
    " \n",
    "1.   The link to your Google Colab Jupyter Notebook (or your Jupyter Notebook). The notebook should contain\n",
    "  *   The final model.\n",
    "  *   The two functions described above (one for dimensionality reduction and one for calculating reconstructions). The final model weights/parameters should be saved in a file and the two functions should use weights loaded from this file. (This is to make sure that we evaluate the model using the same weights as you)\n",
    "  *   The loss calculation for the test set.\n",
    "2. A link to a file storing the model architecture/weights (you can also send us the file, if it's of reasonable size). This can be in any format (as long as it loads correctly in your notebook).\n",
    "3. The loss you obtained on your test set.\n",
    "\n",
    "Feel free to choose the ML framework of your choice for this problem.\n"
   ]
  }
 ],
 "metadata": {
  "colab": {
   "collapsed_sections": [],
   "machine_shape": "hm",
   "name": "Dimensionality_reduction_CGMs.ipynb",
   "provenance": [
    {
     "file_id": "17TuBEJDZCNGw71A2OmBmIwk4AqLdPaGn",
     "timestamp": 1634658034032
    },
    {
     "file_id": "1kGsAeBx6bGmbXRi8vzROhIevDN-ZdRmP",
     "timestamp": 1632323155091
    },
    {
     "file_id": "1ySBkLxNd3V7XLloYQuil01Natn7Dl2XI",
     "timestamp": 1631991399637
    },
    {
     "file_id": "1zMf_VXo9NLLjXiynOt8ngfM0vv7ctGt4",
     "timestamp": 1631551669503
    },
    {
     "file_id": "1o0Sn0iEzCqtUrCnQdvdPEEYREGhsT5YL",
     "timestamp": 1628347592902
    },
    {
     "file_id": "1XzxeILig1G-iLdfBZrjMuO0w_RI4WQvV",
     "timestamp": 1627666240566
    },
    {
     "file_id": "18w_aa9Ly05cGVIYBdQwp01NlMXHufddB",
     "timestamp": 1627505879526
    },
    {
     "file_id": "1yReVod2IejBFCzmxZg7r0o9ItK7HjOEw",
     "timestamp": 1627466320857
    },
    {
     "file_id": "11IgMQngjEilCZefzNKKqITYsB8Hptddm",
     "timestamp": 1626943863859
    },
    {
     "file_id": "19y8zMcHzpWDor4nB976Iax5KgyzRTm7r",
     "timestamp": 1626794559823
    }
   ]
  },
  "kernelspec": {
   "display_name": "gsof_env",
   "language": "python",
   "name": "gsof_env"
  },
  "language_info": {
   "codemirror_mode": {
    "name": "ipython",
    "version": 3
   },
   "file_extension": ".py",
   "mimetype": "text/x-python",
   "name": "python",
   "nbconvert_exporter": "python",
   "pygments_lexer": "ipython3",
   "version": "3.8.6"
  }
 },
 "nbformat": 4,
 "nbformat_minor": 1
}
